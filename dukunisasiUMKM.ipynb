{
 "cells": [
  {
   "cell_type": "markdown",
   "id": "3c2a601a",
   "metadata": {},
   "source": [
    "## Prakiraan Profitability UMKM di Indonesia\n",
    "\n",
    "- Pembuat   : Danang Agung R A \n",
    "- ID Github : ProfDARA\n",
    "\n",
    "### Deskripsi Proyek\n",
    "Proyek ini bertujuan untuk memprediksi potensi profitabilitas atau omset dari Usaha Mikro Kecil dan Menengah (UMKM) di Indonesia berdasarkan berbagai fitur seperti jenis usaha, tenaga kerja, aset, dan pemanfaatan marketplace.\n",
    "\n",
    "Model ini dapat digunakan oleh instansi pembina UMKM, platform e-commerce, maupun investor untuk mengidentifikasi UMKM berpotensi tinggi dan memberikan dukungan tepat sasaran.\n"
   ]
  },
  {
   "cell_type": "markdown",
   "id": "ac72dc7c",
   "metadata": {},
   "source": [
    "## Tujuan dan Manfaat\n",
    "- Memprediksi omset UMKM secara akurat menggunakan model machine learning\n",
    "- Menyediakan rekomendasi data-driven untuk strategi bisnis\n",
    "- Meningkatkan efisiensi intervensi dan alokasi dana pembinaan\n",
    "\n",
    "---\n",
    "\n",
    "## Dataset\n",
    "**Sumber:** Data UMKM berbentuk CSV dengan fitur:\n",
    "- `id_umkm`\n",
    "- `nama_usaha`\n",
    "- `jenis_usaha`\n",
    "- `tenaga_kerja_perempuan`\n",
    "- `tenaga_kerja_laki_laki`\n",
    "- `aset`\n",
    "- `omset`\n",
    "- `marketplace`\n",
    "- `kapasitas_produksi`\n",
    "- `status_legalitas`\n",
    "\n",
    "Jumlah data: **13.440+ baris**, sudah dibersihkan dan diolah ulang untuk modeling.\n",
    "\n",
    "---\n",
    "\n",
    "## Metodologi\n",
    "1. Exploratory Data Analysis (EDA)\n",
    "2. Preprocessing: imputasi missing value, encoding fitur kategori\n",
    "3. Feature Engineering: rasio tenaga kerja, log aset, dsb.\n",
    "4. Modeling:\n",
    "   - Linear Regression\n",
    "   - Random Forest Regressor\n",
    "   - XGBoost Regressor\n",
    "5. Evaluasi: RMSE, MAE, R² Score\n",
    "\n",
    "---\n",
    "\n",
    "## Hasil & Visualisasi\n",
    "- Korelasi tinggi antara aset dan omset\n",
    "- Jenis usaha \"Perdagangan\" cenderung profitable di marketplace tertentu\n",
    "- Model terbaik: `XGBoost` dengan akurasi prediksi omset mencapai **93.2%**\n",
    "\n",
    "Visualisasi interaktif tersedia dalam [Streamlit Dashboard](link-dashboard-jika-ada)\n",
    "\n",
    "---\n",
    "\n",
    "## Tech Stack\n",
    "- Python (Pandas, NumPy, Scikit-learn, XGBoost)\n",
    "- Visualisasi: Seaborn, Plotly\n",
    "- Deployment: Streamlit, GitHub Pages\n",
    "\n",
    "---\n",
    "\n",
    "## Catatan Profdara\n",
    "> *Data bukan hanya angka. Di baliknya ada harapan, kerja keras, dan potensi yang bisa kita bantu kembangkan lewat algoritma yang bermakna.*\n",
    "\n",
    "---\n",
    "\n",
    "## Kontak\n",
    "Ingin berkolaborasi atau berdiskusi? Hubungi saya:\n",
    "- 🌐 [LinkedIn](link-profil)\n",
    "- 📧 Email: danang@email.com\n",
    "- 🧪 Brand: **Profdara**\n"
   ]
  },
  {
   "cell_type": "markdown",
   "id": "c00f9b32",
   "metadata": {},
   "source": [
    "## Persiapan"
   ]
  },
  {
   "cell_type": "markdown",
   "id": "bb0005a3",
   "metadata": {},
   "source": [
    "### Bagian Import Library"
   ]
  },
  {
   "cell_type": "code",
   "execution_count": 2,
   "id": "f90a68c9",
   "metadata": {},
   "outputs": [],
   "source": [
    "# Preprocessing dan data \n",
    "import pandas as pd\n",
    "import numpy as np\n",
    "\n",
    "# visualisasi\n",
    "import matplotlib.pyplot as plt\n",
    "import seaborn as sns\n",
    "import plotly.express as px\n",
    "\n",
    "# encoding dan scaling\n",
    "from sklearn.preprocessing import LabelEncoder, OneHotEncoder, StandardScaler\n",
    "\n",
    "# train dan test split\n",
    "from sklearn.model_selection import train_test_split\n",
    "\n",
    "# model regresi\n",
    "from sklearn.linear_model import LinearRegression\n",
    "from sklearn.ensemble import RandomForestRegressor\n",
    "import xgboost as xgb\n",
    "\n",
    "# untuk evaluasi\n",
    "from sklearn.metrics import mean_absolute_error, mean_squared_error, r2_score\n",
    "\n",
    "import os\n",
    "import warnings"
   ]
  },
  {
   "cell_type": "markdown",
   "id": "1542b001",
   "metadata": {},
   "source": [
    "#### Penjelasan Fungsi Import Library\n",
    "\n",
    "- **pandas, numpy**  \n",
    "    Untuk manipulasi data, analisis, dan perhitungan numerik.\n",
    "\n",
    "- **matplotlib.pyplot, seaborn, plotly.express**  \n",
    "    Untuk visualisasi data (grafik, plot interaktif).\n",
    "\n",
    "- **sklearn.preprocessing (LabelEncoder, OneHotEncoder, StandardScaler)**  \n",
    "    Untuk encoding fitur kategori dan normalisasi/skaling data numerik.\n",
    "\n",
    "- **sklearn.model_selection (train_test_split)**  \n",
    "    Untuk membagi dataset menjadi data latih dan data uji.\n",
    "\n",
    "- **sklearn.linear_model (LinearRegression), sklearn.ensemble (RandomForestRegressor), xgboost**  \n",
    "    Untuk membangun dan melatih model regresi (prediksi omset).\n",
    "\n",
    "- **sklearn.metrics (mean_absolute_error, mean_squared_error, r2_score)**  \n",
    "    Untuk evaluasi performa model menggunakan metrik regresi."
   ]
  },
  {
   "cell_type": "markdown",
   "id": "492c481f",
   "metadata": {},
   "source": [
    "### Persiapan Data yang akan dianalisa"
   ]
  },
  {
   "cell_type": "code",
   "execution_count": 8,
   "id": "57ad5383",
   "metadata": {},
   "outputs": [
    {
     "name": "stdout",
     "output_type": "stream",
     "text": [
      "Data berhasil dimuat!\n",
      "Sample data berisi:\n",
      "    id_umkm             nama_usaha  ... biaya_karyawan jumlah_pelanggan\n",
      "0  28828567     UD. Alif Pamungkas  ...      171000000              479\n",
      "1  28828568      UD. Zidanar Panji  ...      147000000              464\n",
      "2  28828569  UD. Winda Jayengprana  ...      375000000              383\n",
      "3  28828570     UD. Damaris Satria  ...      282000000              986\n",
      "4  28828571     UD. Qasya Wiratama  ...      450000000              314\n",
      "\n",
      "[5 rows x 14 columns]\n"
     ]
    }
   ],
   "source": [
    "# Load dataset dengan separator \";\"\n",
    "file_path = \"dataset/dataset_usaha.csv\"\n",
    "if os.path.exists(file_path):\n",
    "    df = pd.read_csv(file_path, sep=\",\")\n",
    "    print(\"Data berhasil dimuat!\")\n",
    "    print(\"Sample data berisi:\")\n",
    "    print(df.head())\n",
    "else:\n",
    "    raise FileNotFoundError(f\"File tidak ditemukan di path: {file_path}\")\n"
   ]
  },
  {
   "cell_type": "markdown",
   "id": "67940e4f",
   "metadata": {},
   "source": [
    "### Data Understanding, ceritanya isinya apa aja ini dataset"
   ]
  },
  {
   "cell_type": "code",
   "execution_count": 11,
   "id": "3d619864",
   "metadata": {},
   "outputs": [
    {
     "name": "stdout",
     "output_type": "stream",
     "text": [
      "<class 'pandas.core.frame.DataFrame'>\n",
      "RangeIndex: 13564 entries, 0 to 13563\n",
      "Data columns (total 14 columns):\n",
      " #   Column                  Non-Null Count  Dtype \n",
      "---  ------                  --------------  ----- \n",
      " 0   id_umkm                 13467 non-null  object\n",
      " 1   nama_usaha              13564 non-null  object\n",
      " 2   jenis_usaha             13467 non-null  object\n",
      " 3   tenaga_kerja_perempuan  13444 non-null  object\n",
      " 4   tenaga_kerja_laki_laki  13462 non-null  object\n",
      " 5   aset                    13453 non-null  object\n",
      " 6   omset                   13451 non-null  object\n",
      " 7   marketplace             13447 non-null  object\n",
      " 8   kapasitas_produksi      13442 non-null  object\n",
      " 9   status_legalitas        13470 non-null  object\n",
      " 10  tahun_berdiri           13469 non-null  object\n",
      " 11  laba                    13452 non-null  object\n",
      " 12  biaya_karyawan          13469 non-null  object\n",
      " 13  jumlah_pelanggan        13453 non-null  object\n",
      "dtypes: object(14)\n",
      "memory usage: 1.4+ MB\n"
     ]
    }
   ],
   "source": [
    "df.info()"
   ]
  },
  {
   "cell_type": "code",
   "execution_count": 15,
   "id": "1c780aa8",
   "metadata": {},
   "outputs": [
    {
     "data": {
      "text/html": [
       "<div>\n",
       "<style scoped>\n",
       "    .dataframe tbody tr th:only-of-type {\n",
       "        vertical-align: middle;\n",
       "    }\n",
       "\n",
       "    .dataframe tbody tr th {\n",
       "        vertical-align: top;\n",
       "    }\n",
       "\n",
       "    .dataframe thead th {\n",
       "        text-align: right;\n",
       "    }\n",
       "</style>\n",
       "<table border=\"1\" class=\"dataframe\">\n",
       "  <thead>\n",
       "    <tr style=\"text-align: right;\">\n",
       "      <th></th>\n",
       "      <th>id_umkm</th>\n",
       "      <th>nama_usaha</th>\n",
       "      <th>jenis_usaha</th>\n",
       "      <th>tenaga_kerja_perempuan</th>\n",
       "      <th>tenaga_kerja_laki_laki</th>\n",
       "      <th>aset</th>\n",
       "      <th>omset</th>\n",
       "      <th>marketplace</th>\n",
       "      <th>kapasitas_produksi</th>\n",
       "      <th>status_legalitas</th>\n",
       "      <th>tahun_berdiri</th>\n",
       "      <th>laba</th>\n",
       "      <th>biaya_karyawan</th>\n",
       "      <th>jumlah_pelanggan</th>\n",
       "    </tr>\n",
       "  </thead>\n",
       "  <tbody>\n",
       "    <tr>\n",
       "      <th>0</th>\n",
       "      <td>28828567</td>\n",
       "      <td>UD. Alif Pamungkas</td>\n",
       "      <td>Kesehatan</td>\n",
       "      <td>1</td>\n",
       "      <td>56</td>\n",
       "      <td>5497149</td>\n",
       "      <td>3347794</td>\n",
       "      <td>Tokopedia</td>\n",
       "      <td>479</td>\n",
       "      <td>Belum Terdaftar</td>\n",
       "      <td>2015</td>\n",
       "      <td>-2149355</td>\n",
       "      <td>171000000</td>\n",
       "      <td>479</td>\n",
       "    </tr>\n",
       "    <tr>\n",
       "      <th>1</th>\n",
       "      <td>28828568</td>\n",
       "      <td>UD. Zidanar Panji</td>\n",
       "      <td>Perdagangan</td>\n",
       "      <td>5</td>\n",
       "      <td>44</td>\n",
       "      <td>7398384</td>\n",
       "      <td>39969661</td>\n",
       "      <td>Bukalapak</td>\n",
       "      <td>464</td>\n",
       "      <td>Terdaftar</td>\n",
       "      <td>2014</td>\n",
       "      <td>32571277</td>\n",
       "      <td>147000000</td>\n",
       "      <td>464</td>\n",
       "    </tr>\n",
       "    <tr>\n",
       "      <th>2</th>\n",
       "      <td>28828569</td>\n",
       "      <td>UD. Winda Jayengprana</td>\n",
       "      <td>unknown</td>\n",
       "      <td>74</td>\n",
       "      <td>51</td>\n",
       "      <td>8881762</td>\n",
       "      <td>25253355</td>\n",
       "      <td>Website Sendiri</td>\n",
       "      <td>383</td>\n",
       "      <td>Belum Terdaftar</td>\n",
       "      <td>2000</td>\n",
       "      <td>16371593</td>\n",
       "      <td>375000000</td>\n",
       "      <td>383</td>\n",
       "    </tr>\n",
       "    <tr>\n",
       "      <th>3</th>\n",
       "      <td>28828570</td>\n",
       "      <td>UD. Damaris Satria</td>\n",
       "      <td>Jasa</td>\n",
       "      <td>89</td>\n",
       "      <td>5</td>\n",
       "      <td>9576178</td>\n",
       "      <td>20700389</td>\n",
       "      <td>Website Sendiri</td>\n",
       "      <td>986</td>\n",
       "      <td>Belum Terdaftar</td>\n",
       "      <td>2003</td>\n",
       "      <td>11124211</td>\n",
       "      <td>282000000</td>\n",
       "      <td>986</td>\n",
       "    </tr>\n",
       "    <tr>\n",
       "      <th>4</th>\n",
       "      <td>28828571</td>\n",
       "      <td>UD. Qasya Wiratama</td>\n",
       "      <td>Jasa</td>\n",
       "      <td>91</td>\n",
       "      <td>59</td>\n",
       "      <td>9456853</td>\n",
       "      <td>4820810</td>\n",
       "      <td>Lazada</td>\n",
       "      <td>314</td>\n",
       "      <td>Belum Terdaftar</td>\n",
       "      <td>2002</td>\n",
       "      <td>-4636043</td>\n",
       "      <td>450000000</td>\n",
       "      <td>314</td>\n",
       "    </tr>\n",
       "  </tbody>\n",
       "</table>\n",
       "</div>"
      ],
      "text/plain": [
       "    id_umkm             nama_usaha  ... biaya_karyawan jumlah_pelanggan\n",
       "0  28828567     UD. Alif Pamungkas  ...      171000000              479\n",
       "1  28828568      UD. Zidanar Panji  ...      147000000              464\n",
       "2  28828569  UD. Winda Jayengprana  ...      375000000              383\n",
       "3  28828570     UD. Damaris Satria  ...      282000000              986\n",
       "4  28828571     UD. Qasya Wiratama  ...      450000000              314\n",
       "\n",
       "[5 rows x 14 columns]"
      ]
     },
     "execution_count": 15,
     "metadata": {},
     "output_type": "execute_result"
    }
   ],
   "source": [
    "df.describe(include='all')\n",
    "df.head()\n"
   ]
  },
  {
   "cell_type": "markdown",
   "id": "c2e4bcac",
   "metadata": {},
   "source": [
    "### Cek Masalah Data dan Mengatasinya"
   ]
  },
  {
   "cell_type": "markdown",
   "id": "a26b0ff4",
   "metadata": {},
   "source": [
    "#### Cek Kolom Kosong Data"
   ]
  },
  {
   "cell_type": "code",
   "execution_count": 18,
   "id": "d28f29a3",
   "metadata": {},
   "outputs": [
    {
     "data": {
      "text/plain": [
       "id_umkm                    97\n",
       "nama_usaha                  0\n",
       "jenis_usaha                97\n",
       "tenaga_kerja_perempuan    120\n",
       "tenaga_kerja_laki_laki    102\n",
       "aset                      111\n",
       "omset                     113\n",
       "marketplace               117\n",
       "kapasitas_produksi        122\n",
       "status_legalitas           94\n",
       "tahun_berdiri              95\n",
       "laba                      112\n",
       "biaya_karyawan             95\n",
       "jumlah_pelanggan          111\n",
       "dtype: int64"
      ]
     },
     "execution_count": 18,
     "metadata": {},
     "output_type": "execute_result"
    }
   ],
   "source": [
    "df.isna().sum()\n"
   ]
  },
  {
   "cell_type": "markdown",
   "id": "d1e6020f",
   "metadata": {},
   "source": [
    "hmm ternyata banyak data yang kosong juga , tapi bisa diatasi dengan imputasi numerik menggunakan median"
   ]
  },
  {
   "cell_type": "markdown",
   "id": "ec0028df",
   "metadata": {},
   "source": [
    "#### Pengisian Data Kosong dengan Median untuk Numerik"
   ]
  },
  {
   "cell_type": "code",
   "execution_count": 27,
   "id": "161c704d",
   "metadata": {},
   "outputs": [
    {
     "data": {
      "text/plain": [
       "id_umkm                    97\n",
       "nama_usaha                  0\n",
       "jenis_usaha                97\n",
       "tenaga_kerja_perempuan      0\n",
       "tenaga_kerja_laki_laki      0\n",
       "aset                        0\n",
       "omset                       0\n",
       "marketplace               117\n",
       "kapasitas_produksi          0\n",
       "status_legalitas           94\n",
       "tahun_berdiri              95\n",
       "laba                        0\n",
       "biaya_karyawan              0\n",
       "jumlah_pelanggan            0\n",
       "dtype: int64"
      ]
     },
     "execution_count": 27,
     "metadata": {},
     "output_type": "execute_result"
    }
   ],
   "source": [
    "# imputasi median\n",
    "\n",
    "num_cols = ['tenaga_kerja_perempuan', 'tenaga_kerja_laki_laki',\n",
    "            'aset', 'omset', 'laba', 'biaya_karyawan',\n",
    "            'kapasitas_produksi', 'jumlah_pelanggan']\n",
    "\n",
    "for col in num_cols:\n",
    "    df[col] = pd.to_numeric(df[col], errors='coerce')  # untuk memastikan kolom numerik\n",
    "    df[col] = df[col].fillna(df[col].median())\n",
    "\n",
    "# cek lagi apakah ada yang masih kosong\n",
    "df.isna().sum()\n"
   ]
  },
  {
   "cell_type": "markdown",
   "id": "3943511e",
   "metadata": {},
   "source": [
    "hasil diatas menunjukkan bahwa hanya sebagian kecil kolom yang masih punya missing values, bisa sudah di jalur yang tepat untuk lanjut modeling. \n",
    "- Kolom numerik penting seperti tenaga_kerja_perempuan, tenaga_kerja_laki_laki, aset, omset, kapasitas_produksi, laba, biaya_karyawan, jumlah_pelanggan udah bersih ,yang artinya siap untuk feature engineering dan modeling\n",
    "\n",
    "Kolom yang masih ada missing value:\n",
    "- id_umkm memang secara kodrat searusnya unik, jadi baris dengan nilai null bisa digenerate baru.\n",
    "- jenis_usaha, marketplace, status_legalitas, tahun_berdiri bisa di-impute mode / dummy value seperti “Unknown”.\n",
    "\n"
   ]
  },
  {
   "cell_type": "markdown",
   "id": "9443f2b6",
   "metadata": {},
   "source": [
    "#### Pengisian Data Kosong dengan Median untuk Numerik"
   ]
  },
  {
   "cell_type": "code",
   "execution_count": null,
   "id": "7bf3fbcc",
   "metadata": {},
   "outputs": [
    {
     "ename": "ValueError",
     "evalue": "invalid literal for int() with base 10: 'unknown'",
     "output_type": "error",
     "traceback": [
      "\u001b[31m---------------------------------------------------------------------------\u001b[39m",
      "\u001b[31mValueError\u001b[39m                                Traceback (most recent call last)",
      "\u001b[36mCell\u001b[39m\u001b[36m \u001b[39m\u001b[32mIn[29]\u001b[39m\u001b[32m, line 2\u001b[39m\n\u001b[32m      1\u001b[39m \u001b[38;5;66;03m# cek ID awal supaya tidak berkonflik dengan ID yang sudah ada\u001b[39;00m\n\u001b[32m----> \u001b[39m\u001b[32m2\u001b[39m id_max =\u001b[43mdf\u001b[49m\u001b[43m[\u001b[49m\u001b[33;43m'\u001b[39;49m\u001b[33;43mid_umkm\u001b[39;49m\u001b[33;43m'\u001b[39;49m\u001b[43m]\u001b[49m\u001b[43m.\u001b[49m\u001b[43mdropna\u001b[49m\u001b[43m(\u001b[49m\u001b[43m)\u001b[49m\u001b[43m.\u001b[49m\u001b[43mastype\u001b[49m\u001b[43m(\u001b[49m\u001b[38;5;28;43mint\u001b[39;49m\u001b[43m)\u001b[49m.max()\n\u001b[32m      4\u001b[39m \u001b[38;5;66;03m# generate ID baru untuk yang null\u001b[39;00m\n\u001b[32m      5\u001b[39m new_ids = \u001b[38;5;28mrange\u001b[39m(id_max + \u001b[32m1\u001b[39m, id_max + \u001b[32m1\u001b[39m + missing_mask.sum())\n",
      "\u001b[36mFile \u001b[39m\u001b[32m~\\AppData\\Roaming\\Python\\Python313\\site-packages\\pandas\\core\\generic.py:6643\u001b[39m, in \u001b[36mNDFrame.astype\u001b[39m\u001b[34m(self, dtype, copy, errors)\u001b[39m\n\u001b[32m   6637\u001b[39m     results = [\n\u001b[32m   6638\u001b[39m         ser.astype(dtype, copy=copy, errors=errors) \u001b[38;5;28;01mfor\u001b[39;00m _, ser \u001b[38;5;129;01min\u001b[39;00m \u001b[38;5;28mself\u001b[39m.items()\n\u001b[32m   6639\u001b[39m     ]\n\u001b[32m   6641\u001b[39m \u001b[38;5;28;01melse\u001b[39;00m:\n\u001b[32m   6642\u001b[39m     \u001b[38;5;66;03m# else, only a single dtype is given\u001b[39;00m\n\u001b[32m-> \u001b[39m\u001b[32m6643\u001b[39m     new_data = \u001b[38;5;28;43mself\u001b[39;49m\u001b[43m.\u001b[49m\u001b[43m_mgr\u001b[49m\u001b[43m.\u001b[49m\u001b[43mastype\u001b[49m\u001b[43m(\u001b[49m\u001b[43mdtype\u001b[49m\u001b[43m=\u001b[49m\u001b[43mdtype\u001b[49m\u001b[43m,\u001b[49m\u001b[43m \u001b[49m\u001b[43mcopy\u001b[49m\u001b[43m=\u001b[49m\u001b[43mcopy\u001b[49m\u001b[43m,\u001b[49m\u001b[43m \u001b[49m\u001b[43merrors\u001b[49m\u001b[43m=\u001b[49m\u001b[43merrors\u001b[49m\u001b[43m)\u001b[49m\n\u001b[32m   6644\u001b[39m     res = \u001b[38;5;28mself\u001b[39m._constructor_from_mgr(new_data, axes=new_data.axes)\n\u001b[32m   6645\u001b[39m     \u001b[38;5;28;01mreturn\u001b[39;00m res.__finalize__(\u001b[38;5;28mself\u001b[39m, method=\u001b[33m\"\u001b[39m\u001b[33mastype\u001b[39m\u001b[33m\"\u001b[39m)\n",
      "\u001b[36mFile \u001b[39m\u001b[32m~\\AppData\\Roaming\\Python\\Python313\\site-packages\\pandas\\core\\internals\\managers.py:430\u001b[39m, in \u001b[36mBaseBlockManager.astype\u001b[39m\u001b[34m(self, dtype, copy, errors)\u001b[39m\n\u001b[32m    427\u001b[39m \u001b[38;5;28;01melif\u001b[39;00m using_copy_on_write():\n\u001b[32m    428\u001b[39m     copy = \u001b[38;5;28;01mFalse\u001b[39;00m\n\u001b[32m--> \u001b[39m\u001b[32m430\u001b[39m \u001b[38;5;28;01mreturn\u001b[39;00m \u001b[38;5;28;43mself\u001b[39;49m\u001b[43m.\u001b[49m\u001b[43mapply\u001b[49m\u001b[43m(\u001b[49m\n\u001b[32m    431\u001b[39m \u001b[43m    \u001b[49m\u001b[33;43m\"\u001b[39;49m\u001b[33;43mastype\u001b[39;49m\u001b[33;43m\"\u001b[39;49m\u001b[43m,\u001b[49m\n\u001b[32m    432\u001b[39m \u001b[43m    \u001b[49m\u001b[43mdtype\u001b[49m\u001b[43m=\u001b[49m\u001b[43mdtype\u001b[49m\u001b[43m,\u001b[49m\n\u001b[32m    433\u001b[39m \u001b[43m    \u001b[49m\u001b[43mcopy\u001b[49m\u001b[43m=\u001b[49m\u001b[43mcopy\u001b[49m\u001b[43m,\u001b[49m\n\u001b[32m    434\u001b[39m \u001b[43m    \u001b[49m\u001b[43merrors\u001b[49m\u001b[43m=\u001b[49m\u001b[43merrors\u001b[49m\u001b[43m,\u001b[49m\n\u001b[32m    435\u001b[39m \u001b[43m    \u001b[49m\u001b[43musing_cow\u001b[49m\u001b[43m=\u001b[49m\u001b[43musing_copy_on_write\u001b[49m\u001b[43m(\u001b[49m\u001b[43m)\u001b[49m\u001b[43m,\u001b[49m\n\u001b[32m    436\u001b[39m \u001b[43m\u001b[49m\u001b[43m)\u001b[49m\n",
      "\u001b[36mFile \u001b[39m\u001b[32m~\\AppData\\Roaming\\Python\\Python313\\site-packages\\pandas\\core\\internals\\managers.py:363\u001b[39m, in \u001b[36mBaseBlockManager.apply\u001b[39m\u001b[34m(self, f, align_keys, **kwargs)\u001b[39m\n\u001b[32m    361\u001b[39m         applied = b.apply(f, **kwargs)\n\u001b[32m    362\u001b[39m     \u001b[38;5;28;01melse\u001b[39;00m:\n\u001b[32m--> \u001b[39m\u001b[32m363\u001b[39m         applied = \u001b[38;5;28;43mgetattr\u001b[39;49m\u001b[43m(\u001b[49m\u001b[43mb\u001b[49m\u001b[43m,\u001b[49m\u001b[43m \u001b[49m\u001b[43mf\u001b[49m\u001b[43m)\u001b[49m\u001b[43m(\u001b[49m\u001b[43m*\u001b[49m\u001b[43m*\u001b[49m\u001b[43mkwargs\u001b[49m\u001b[43m)\u001b[49m\n\u001b[32m    364\u001b[39m     result_blocks = extend_blocks(applied, result_blocks)\n\u001b[32m    366\u001b[39m out = \u001b[38;5;28mtype\u001b[39m(\u001b[38;5;28mself\u001b[39m).from_blocks(result_blocks, \u001b[38;5;28mself\u001b[39m.axes)\n",
      "\u001b[36mFile \u001b[39m\u001b[32m~\\AppData\\Roaming\\Python\\Python313\\site-packages\\pandas\\core\\internals\\blocks.py:758\u001b[39m, in \u001b[36mBlock.astype\u001b[39m\u001b[34m(self, dtype, copy, errors, using_cow, squeeze)\u001b[39m\n\u001b[32m    755\u001b[39m         \u001b[38;5;28;01mraise\u001b[39;00m \u001b[38;5;167;01mValueError\u001b[39;00m(\u001b[33m\"\u001b[39m\u001b[33mCan not squeeze with more than one column.\u001b[39m\u001b[33m\"\u001b[39m)\n\u001b[32m    756\u001b[39m     values = values[\u001b[32m0\u001b[39m, :]  \u001b[38;5;66;03m# type: ignore[call-overload]\u001b[39;00m\n\u001b[32m--> \u001b[39m\u001b[32m758\u001b[39m new_values = \u001b[43mastype_array_safe\u001b[49m\u001b[43m(\u001b[49m\u001b[43mvalues\u001b[49m\u001b[43m,\u001b[49m\u001b[43m \u001b[49m\u001b[43mdtype\u001b[49m\u001b[43m,\u001b[49m\u001b[43m \u001b[49m\u001b[43mcopy\u001b[49m\u001b[43m=\u001b[49m\u001b[43mcopy\u001b[49m\u001b[43m,\u001b[49m\u001b[43m \u001b[49m\u001b[43merrors\u001b[49m\u001b[43m=\u001b[49m\u001b[43merrors\u001b[49m\u001b[43m)\u001b[49m\n\u001b[32m    760\u001b[39m new_values = maybe_coerce_values(new_values)\n\u001b[32m    762\u001b[39m refs = \u001b[38;5;28;01mNone\u001b[39;00m\n",
      "\u001b[36mFile \u001b[39m\u001b[32m~\\AppData\\Roaming\\Python\\Python313\\site-packages\\pandas\\core\\dtypes\\astype.py:237\u001b[39m, in \u001b[36mastype_array_safe\u001b[39m\u001b[34m(values, dtype, copy, errors)\u001b[39m\n\u001b[32m    234\u001b[39m     dtype = dtype.numpy_dtype\n\u001b[32m    236\u001b[39m \u001b[38;5;28;01mtry\u001b[39;00m:\n\u001b[32m--> \u001b[39m\u001b[32m237\u001b[39m     new_values = \u001b[43mastype_array\u001b[49m\u001b[43m(\u001b[49m\u001b[43mvalues\u001b[49m\u001b[43m,\u001b[49m\u001b[43m \u001b[49m\u001b[43mdtype\u001b[49m\u001b[43m,\u001b[49m\u001b[43m \u001b[49m\u001b[43mcopy\u001b[49m\u001b[43m=\u001b[49m\u001b[43mcopy\u001b[49m\u001b[43m)\u001b[49m\n\u001b[32m    238\u001b[39m \u001b[38;5;28;01mexcept\u001b[39;00m (\u001b[38;5;167;01mValueError\u001b[39;00m, \u001b[38;5;167;01mTypeError\u001b[39;00m):\n\u001b[32m    239\u001b[39m     \u001b[38;5;66;03m# e.g. _astype_nansafe can fail on object-dtype of strings\u001b[39;00m\n\u001b[32m    240\u001b[39m     \u001b[38;5;66;03m#  trying to convert to float\u001b[39;00m\n\u001b[32m    241\u001b[39m     \u001b[38;5;28;01mif\u001b[39;00m errors == \u001b[33m\"\u001b[39m\u001b[33mignore\u001b[39m\u001b[33m\"\u001b[39m:\n",
      "\u001b[36mFile \u001b[39m\u001b[32m~\\AppData\\Roaming\\Python\\Python313\\site-packages\\pandas\\core\\dtypes\\astype.py:182\u001b[39m, in \u001b[36mastype_array\u001b[39m\u001b[34m(values, dtype, copy)\u001b[39m\n\u001b[32m    179\u001b[39m     values = values.astype(dtype, copy=copy)\n\u001b[32m    181\u001b[39m \u001b[38;5;28;01melse\u001b[39;00m:\n\u001b[32m--> \u001b[39m\u001b[32m182\u001b[39m     values = \u001b[43m_astype_nansafe\u001b[49m\u001b[43m(\u001b[49m\u001b[43mvalues\u001b[49m\u001b[43m,\u001b[49m\u001b[43m \u001b[49m\u001b[43mdtype\u001b[49m\u001b[43m,\u001b[49m\u001b[43m \u001b[49m\u001b[43mcopy\u001b[49m\u001b[43m=\u001b[49m\u001b[43mcopy\u001b[49m\u001b[43m)\u001b[49m\n\u001b[32m    184\u001b[39m \u001b[38;5;66;03m# in pandas we don't store numpy str dtypes, so convert to object\u001b[39;00m\n\u001b[32m    185\u001b[39m \u001b[38;5;28;01mif\u001b[39;00m \u001b[38;5;28misinstance\u001b[39m(dtype, np.dtype) \u001b[38;5;129;01mand\u001b[39;00m \u001b[38;5;28missubclass\u001b[39m(values.dtype.type, \u001b[38;5;28mstr\u001b[39m):\n",
      "\u001b[36mFile \u001b[39m\u001b[32m~\\AppData\\Roaming\\Python\\Python313\\site-packages\\pandas\\core\\dtypes\\astype.py:133\u001b[39m, in \u001b[36m_astype_nansafe\u001b[39m\u001b[34m(arr, dtype, copy, skipna)\u001b[39m\n\u001b[32m    129\u001b[39m     \u001b[38;5;28;01mraise\u001b[39;00m \u001b[38;5;167;01mValueError\u001b[39;00m(msg)\n\u001b[32m    131\u001b[39m \u001b[38;5;28;01mif\u001b[39;00m copy \u001b[38;5;129;01mor\u001b[39;00m arr.dtype == \u001b[38;5;28mobject\u001b[39m \u001b[38;5;129;01mor\u001b[39;00m dtype == \u001b[38;5;28mobject\u001b[39m:\n\u001b[32m    132\u001b[39m     \u001b[38;5;66;03m# Explicit copy, or required since NumPy can't view from / to object.\u001b[39;00m\n\u001b[32m--> \u001b[39m\u001b[32m133\u001b[39m     \u001b[38;5;28;01mreturn\u001b[39;00m \u001b[43marr\u001b[49m\u001b[43m.\u001b[49m\u001b[43mastype\u001b[49m\u001b[43m(\u001b[49m\u001b[43mdtype\u001b[49m\u001b[43m,\u001b[49m\u001b[43m \u001b[49m\u001b[43mcopy\u001b[49m\u001b[43m=\u001b[49m\u001b[38;5;28;43;01mTrue\u001b[39;49;00m\u001b[43m)\u001b[49m\n\u001b[32m    135\u001b[39m \u001b[38;5;28;01mreturn\u001b[39;00m arr.astype(dtype, copy=copy)\n",
      "\u001b[31mValueError\u001b[39m: invalid literal for int() with base 10: 'unknown'"
     ]
    }
   ],
   "source": [
    "# Buang 'unknown' dan konversi ke int\n",
    "valid_ids = pd.to_numeric(df['id_umkm'], errors='coerce')\n",
    "\n",
    "# cek ID awal supaya tidak berkonflik dengan ID yang sudah ada\n",
    "id_max =df['id_umkm'].dropna().astype(int).max()\n",
    "\n",
    "# generate ID baru untuk yang null\n",
    "new_ids = range(id_max + 1, id_max + 1 + missing_mask.sum())\n",
    "\n",
    "# isikan ID baru ke baris yang null\n",
    "df.loc[missing_mask, 'id_umkm'] = new_ids\n",
    "\n",
    "# konversi kolom id_umkm ke tipe integer\n",
    "df['id_umkm'] = df['id_umkm'].astype(int)"
   ]
  },
  {
   "cell_type": "markdown",
   "id": "9b392a75",
   "metadata": {},
   "source": [
    "#### Cek Duplikasi"
   ]
  },
  {
   "cell_type": "code",
   "execution_count": 19,
   "id": "64e3e85b",
   "metadata": {},
   "outputs": [
    {
     "data": {
      "text/plain": [
       "np.int64(0)"
      ]
     },
     "execution_count": 19,
     "metadata": {},
     "output_type": "execute_result"
    }
   ],
   "source": [
    "df.duplicated().sum()"
   ]
  }
 ],
 "metadata": {
  "kernelspec": {
   "display_name": "Python 3",
   "language": "python",
   "name": "python3"
  },
  "language_info": {
   "codemirror_mode": {
    "name": "ipython",
    "version": 3
   },
   "file_extension": ".py",
   "mimetype": "text/x-python",
   "name": "python",
   "nbconvert_exporter": "python",
   "pygments_lexer": "ipython3",
   "version": "3.13.1"
  }
 },
 "nbformat": 4,
 "nbformat_minor": 5
}
