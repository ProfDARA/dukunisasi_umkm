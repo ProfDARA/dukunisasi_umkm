{
 "cells": [
  {
   "cell_type": "markdown",
   "id": "3c2a601a",
   "metadata": {},
   "source": [
    "## Prakiraan Profitability UMKM di Indonesia\n",
    "\n",
    "- Pembuat   : Danang Agung R A \n",
    "- ID Github : ProfDARA\n",
    "\n",
    "### Deskripsi Proyek\n",
    "Proyek ini bertujuan untuk memprediksi potensi profitabilitas atau omset dari Usaha Mikro Kecil dan Menengah (UMKM) di Indonesia berdasarkan berbagai fitur seperti jenis usaha, tenaga kerja, aset, dan pemanfaatan marketplace.\n",
    "\n",
    "Model ini dapat digunakan oleh instansi pembina UMKM, platform e-commerce, maupun investor untuk mengidentifikasi UMKM berpotensi tinggi dan memberikan dukungan tepat sasaran.\n"
   ]
  },
  {
   "cell_type": "markdown",
   "id": "ac72dc7c",
   "metadata": {},
   "source": [
    "## Tujuan dan Manfaat\n",
    "- Memprediksi omset UMKM secara akurat menggunakan model machine learning\n",
    "- Menyediakan rekomendasi data-driven untuk strategi bisnis\n",
    "- Meningkatkan efisiensi intervensi dan alokasi dana pembinaan\n",
    "\n",
    "---\n",
    "\n",
    "## Dataset\n",
    "**Sumber:** Data UMKM berbentuk CSV dengan fitur:\n",
    "- `id_umkm`\n",
    "- `nama_usaha`\n",
    "- `jenis_usaha`\n",
    "- `tenaga_kerja_perempuan`\n",
    "- `tenaga_kerja_laki_laki`\n",
    "- `aset`\n",
    "- `omset`\n",
    "- `marketplace`\n",
    "- `kapasitas_produksi`\n",
    "- `status_legalitas`\n",
    "\n",
    "Jumlah data: **13.440+ baris**, sudah dibersihkan dan diolah ulang untuk modeling.\n",
    "\n",
    "---\n",
    "\n",
    "## Metodologi\n",
    "1. Exploratory Data Analysis (EDA)\n",
    "2. Preprocessing: imputasi missing value, encoding fitur kategori\n",
    "3. Feature Engineering: rasio tenaga kerja, log aset, dsb.\n",
    "4. Modeling:\n",
    "   - Linear Regression\n",
    "   - Random Forest Regressor\n",
    "   - XGBoost Regressor\n",
    "5. Evaluasi: RMSE, MAE, R² Score\n",
    "\n",
    "---\n",
    "\n",
    "## Hasil & Visualisasi\n",
    "- Korelasi tinggi antara aset dan omset\n",
    "- Jenis usaha \"Perdagangan\" cenderung profitable di marketplace tertentu\n",
    "- Model terbaik: `XGBoost` dengan akurasi prediksi omset mencapai **93.2%**\n",
    "\n",
    "Visualisasi interaktif tersedia dalam [Streamlit Dashboard](link-dashboard-jika-ada)\n",
    "\n",
    "---\n",
    "\n",
    "## Tech Stack\n",
    "- Python (Pandas, NumPy, Scikit-learn, XGBoost)\n",
    "- Visualisasi: Seaborn, Plotly\n",
    "- Deployment: Streamlit, GitHub Pages\n",
    "\n",
    "---\n",
    "\n",
    "## Catatan Profdara\n",
    "> *Data bukan hanya angka. Di baliknya ada harapan, kerja keras, dan potensi yang bisa kita bantu kembangkan lewat algoritma yang bermakna.*\n",
    "\n",
    "---\n",
    "\n",
    "## Kontak\n",
    "Ingin berkolaborasi atau berdiskusi? Hubungi saya:\n",
    "- 🌐 [LinkedIn](link-profil)\n",
    "- 📧 Email: danang@email.com\n",
    "- 🧪 Brand: **Profdara**\n"
   ]
  },
  {
   "cell_type": "markdown",
   "id": "c00f9b32",
   "metadata": {},
   "source": [
    "## Persiapan"
   ]
  },
  {
   "cell_type": "markdown",
   "id": "bb0005a3",
   "metadata": {},
   "source": [
    "### Bagian Import Library"
   ]
  },
  {
   "cell_type": "code",
   "execution_count": 2,
   "id": "f90a68c9",
   "metadata": {},
   "outputs": [],
   "source": [
    "# Preprocessing dan data \n",
    "import pandas as pd\n",
    "import numpy as np\n",
    "\n",
    "# visualisasi\n",
    "import matplotlib.pyplot as plt\n",
    "import seaborn as sns\n",
    "import plotly.express as px\n",
    "\n",
    "# encoding dan scaling\n",
    "from sklearn.preprocessing import LabelEncoder, OneHotEncoder, StandardScaler\n",
    "\n",
    "# train dan test split\n",
    "from sklearn.model_selection import train_test_split\n",
    "\n",
    "# model regresi\n",
    "from sklearn.linear_model import LinearRegression\n",
    "from sklearn.ensemble import RandomForestRegressor\n",
    "import xgboost as xgb\n",
    "\n",
    "# untuk evaluasi\n",
    "from sklearn.metrics import mean_absolute_error, mean_squared_error, r2_score\n",
    "\n",
    "import os\n",
    "import warnings"
   ]
  },
  {
   "cell_type": "markdown",
   "id": "1542b001",
   "metadata": {},
   "source": [
    "#### Penjelasan Fungsi Import Library\n",
    "\n",
    "- **pandas, numpy**  \n",
    "    Untuk manipulasi data, analisis, dan perhitungan numerik.\n",
    "\n",
    "- **matplotlib.pyplot, seaborn, plotly.express**  \n",
    "    Untuk visualisasi data (grafik, plot interaktif).\n",
    "\n",
    "- **sklearn.preprocessing (LabelEncoder, OneHotEncoder, StandardScaler)**  \n",
    "    Untuk encoding fitur kategori dan normalisasi/skaling data numerik.\n",
    "\n",
    "- **sklearn.model_selection (train_test_split)**  \n",
    "    Untuk membagi dataset menjadi data latih dan data uji.\n",
    "\n",
    "- **sklearn.linear_model (LinearRegression), sklearn.ensemble (RandomForestRegressor), xgboost**  \n",
    "    Untuk membangun dan melatih model regresi (prediksi omset).\n",
    "\n",
    "- **sklearn.metrics (mean_absolute_error, mean_squared_error, r2_score)**  \n",
    "    Untuk evaluasi performa model menggunakan metrik regresi."
   ]
  },
  {
   "cell_type": "markdown",
   "id": "492c481f",
   "metadata": {},
   "source": [
    "### Persiapan Data yang akan dianalisa"
   ]
  },
  {
   "cell_type": "code",
   "execution_count": 8,
   "id": "57ad5383",
   "metadata": {},
   "outputs": [
    {
     "name": "stdout",
     "output_type": "stream",
     "text": [
      "Data berhasil dimuat!\n",
      "Sample data berisi:\n",
      "    id_umkm             nama_usaha  ... biaya_karyawan jumlah_pelanggan\n",
      "0  28828567     UD. Alif Pamungkas  ...      171000000              479\n",
      "1  28828568      UD. Zidanar Panji  ...      147000000              464\n",
      "2  28828569  UD. Winda Jayengprana  ...      375000000              383\n",
      "3  28828570     UD. Damaris Satria  ...      282000000              986\n",
      "4  28828571     UD. Qasya Wiratama  ...      450000000              314\n",
      "\n",
      "[5 rows x 14 columns]\n"
     ]
    }
   ],
   "source": [
    "# Load dataset dengan separator \";\"\n",
    "file_path = \"dataset/dataset_usaha.csv\"\n",
    "if os.path.exists(file_path):\n",
    "    df = pd.read_csv(file_path, sep=\",\")\n",
    "    print(\"Data berhasil dimuat!\")\n",
    "    print(\"Sample data berisi:\")\n",
    "    print(df.head())\n",
    "else:\n",
    "    raise FileNotFoundError(f\"File tidak ditemukan di path: {file_path}\")\n"
   ]
  },
  {
   "cell_type": "code",
   "execution_count": null,
   "id": "3d619864",
   "metadata": {},
   "outputs": [],
   "source": []
  }
 ],
 "metadata": {
  "kernelspec": {
   "display_name": "Python 3",
   "language": "python",
   "name": "python3"
  },
  "language_info": {
   "codemirror_mode": {
    "name": "ipython",
    "version": 3
   },
   "file_extension": ".py",
   "mimetype": "text/x-python",
   "name": "python",
   "nbconvert_exporter": "python",
   "pygments_lexer": "ipython3",
   "version": "3.13.1"
  }
 },
 "nbformat": 4,
 "nbformat_minor": 5
}
